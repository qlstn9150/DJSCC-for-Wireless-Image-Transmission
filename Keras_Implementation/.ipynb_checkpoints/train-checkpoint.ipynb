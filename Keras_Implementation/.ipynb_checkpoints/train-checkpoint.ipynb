{
 "cells": [
  {
   "cell_type": "code",
   "execution_count": null,
   "id": "ba3edc48",
   "metadata": {},
   "outputs": [],
   "source": [
    "from keras.datasets import cifar10\n",
    "from AutoencoderModel import TrainAutoEncoder, Calculate_filters\n",
    "import tensorflow as tf"
   ]
  },
  {
   "cell_type": "markdown",
   "id": "b31f49ee",
   "metadata": {},
   "source": [
    "데이터 불러오기"
   ]
  },
  {
   "cell_type": "code",
   "execution_count": null,
   "id": "39eb6a00",
   "metadata": {},
   "outputs": [],
   "source": [
    "(trainX, _), (testX, _) = cifar10.load_data()"
   ]
  },
  {
   "cell_type": "markdown",
   "id": "04b71cb3",
   "metadata": {},
   "source": [
    "입력 데이터 정규화\n",
    "---\n",
    "0-255값을 갖는 픽셀값을 0-1로 정규화"
   ]
  },
  {
   "cell_type": "code",
   "execution_count": null,
   "id": "28c5bec7",
   "metadata": {},
   "outputs": [],
   "source": [
    "def normalize_pixels(train_data, test_data):\n",
    "    train_norm = train_data.astype('float32')\n",
    "    test_norm = test_data.astype('float32')    \n",
    "    train_norm = train_norm / 255.0\n",
    "    test_norm = test_norm / 255.0 \n",
    "    return train_norm, test_norm\n",
    "\n",
    "x_train, x_test = normalize_pixels(trainX, testX)"
   ]
  },
  {
   "cell_type": "markdown",
   "id": "976b526e",
   "metadata": {},
   "source": [
    "모델 실행\n",
    "---\n",
    "각 압축 비율에 대해 모델 하나 실행"
   ]
  },
  {
   "cell_type": "code",
   "execution_count": null,
   "id": "3b665fa7",
   "metadata": {},
   "outputs": [],
   "source": [
    "compression_ratios = [0.06, 0.09, 0.17]\n",
    "#SNR = [0, 10, 20]\n",
    "\n",
    "for comp_ratio in compression_ratios:\n",
    "    tf.keras.backend.clear_session()\n",
    "    c = Calculate_filters(comp_ratio)\n",
    "    print('---> System Will Train, Compression Ratio: '+str(comp_ratio)+'. <---')\n",
    "    _ = TrainAutoEncoder(x_train, x_test, nb_epoch=750, comp_ratio=comp_ratio, batch_size=16, c=c, snr=10, saver_step=50)"
   ]
  }
 ],
 "metadata": {
  "kernelspec": {
   "display_name": "Python 3 (ipykernel)",
   "language": "python",
   "name": "python3"
  },
  "language_info": {
   "codemirror_mode": {
    "name": "ipython",
    "version": 3
   },
   "file_extension": ".py",
   "mimetype": "text/x-python",
   "name": "python",
   "nbconvert_exporter": "python",
   "pygments_lexer": "ipython3",
   "version": "3.9.2"
  }
 },
 "nbformat": 4,
 "nbformat_minor": 5
}
