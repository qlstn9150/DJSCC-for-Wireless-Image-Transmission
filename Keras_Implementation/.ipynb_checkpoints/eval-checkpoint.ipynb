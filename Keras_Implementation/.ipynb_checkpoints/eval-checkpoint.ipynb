{
 "cells": [
  {
   "cell_type": "code",
   "execution_count": 3,
   "id": "087aaf07",
   "metadata": {},
   "outputs": [],
   "source": [
    "import tensorflow as tf\n",
    "import os\n",
    "import numpy as np\n",
    "from keras.models import load_model\n",
    "from AutoencoderModel import NormalizationNoise\n",
    "from keras.datasets import cifar10\n",
    "from keras import backend as K\n",
    "from skimage.metrics import structural_similarity\n",
    "#from skimage.measure import compare_psnr 대신 아래\n",
    "from skimage.metrics import peak_signal_noise_ratio\n",
    "from matplotlib import pyplot as plt"
   ]
  },
  {
   "cell_type": "code",
   "execution_count": null,
   "id": "628d82c2",
   "metadata": {
    "scrolled": true
   },
   "outputs": [],
   "source": [
    "!pip3 install tensorflow==1.15.0 --user"
   ]
  },
  {
   "cell_type": "code",
   "execution_count": 2,
   "id": "6cfe007c",
   "metadata": {},
   "outputs": [
    {
     "data": {
      "text/plain": [
       "'2.5.0'"
      ]
     },
     "execution_count": 2,
     "metadata": {},
     "output_type": "execute_result"
    }
   ],
   "source": [
    "import tensorflow as tf\n",
    "tf.__version__"
   ]
  },
  {
   "cell_type": "markdown",
   "id": "629cc511",
   "metadata": {},
   "source": [
    "입력데이터 정규화"
   ]
  },
  {
   "cell_type": "code",
   "execution_count": 4,
   "id": "43ea0a08",
   "metadata": {},
   "outputs": [],
   "source": [
    "(trainX, _), (testX, _) = cifar10.load_data()\n",
    "\n",
    "def normalize_pixels(train_data, test_data):\n",
    "    train_norm = train_data.astype('float32')\n",
    "    test_norm = test_data.astype('float32')\n",
    "    train_norm = train_norm / 255.0\n",
    "    test_norm = test_norm / 255.0\n",
    "    return train_norm, test_norm\n",
    "\n",
    "x_train, x_test = normalize_pixels(trainX, testX)"
   ]
  },
  {
   "cell_type": "markdown",
   "id": "41695a27",
   "metadata": {},
   "source": [
    "파라미터 설정"
   ]
  },
  {
   "cell_type": "code",
   "execution_count": null,
   "id": "803e36bd",
   "metadata": {},
   "outputs": [],
   "source": [
    "#compression_ratios = [0.06, 0.09, 0.17, 0.26, 0.34, 0.43, 0.49]\n",
    "#snr = [0, 10, 20]\n",
    "#snr = 10"
   ]
  },
  {
   "cell_type": "markdown",
   "id": "e0ba949b",
   "metadata": {},
   "source": [
    "평가모델\n",
    "---"
   ]
  },
  {
   "cell_type": "code",
   "execution_count": 5,
   "id": "8a86ecef",
   "metadata": {},
   "outputs": [],
   "source": [
    "def EvaluateModel(x_test, compression_ratios, snr, mode='multiple'):\n",
    "    if mode=='single':\n",
    "        tf.keras.backend.clear_session()\n",
    "        comp_ratio=compression_ratios\n",
    "        path = './checkpoints/CompRatio{0}_SNR{1}/Autoencoder.h5'.format(comp_ratio, snr)\n",
    "        autoencoder = load_model(path, custom_objects={'NormalizationNoise': NormalizationNoise})\n",
    "        K.set_value(autoencoder.get_layer('normalization_noise_1').snr_db, snr)\n",
    "        pred_images = autoencoder.predict(x_test)*255\n",
    "        pred_images = pred_images.astype('uint8')\n",
    "        ssim = structural_similarity(testX, pred_images, multichannel=True)\n",
    "        psnr = compare_psnr(testX, pred_images)\n",
    "        return pred_images, psnr, ssim\n",
    "\n",
    "    elif mode=='multiple':  \n",
    "        model_dic = {'SNR':[], 'Pred_Images':[], 'PSNR':[], 'SSIM':[]}\n",
    "        model_dic['SNR'].append(snr)\n",
    "        for comp_ratio in compression_ratios:\n",
    "            tf.keras.backend.clear_session()\n",
    "            path = './checkpoints/CompRatio{0}_SNR{1}/Autoencoder.h5'.format(comp_ratio, snr)\n",
    "            autoencoder = load_model(path, custom_objects={'NormalizationNoise': NormalizationNoise})\n",
    "            K.set_value(autoencoder.get_layer('normalization_noise_1').snr_db, snr)\n",
    "            pred_images = autoencoder.predict(x_test)*255\n",
    "            pred_images = pred_images.astype('uint8')\n",
    "            ssim = structural_similarity(testX, pred_images, multichannel=True)\n",
    "            psnr = compare_psnr(testX, pred_images)\n",
    "            model_dic['Pred_Images'].append(pred_images)\n",
    "            model_dic['PSNR'].append(psnr)\n",
    "            model_dic['SSIM'].append(ssim)\n",
    "        return model_dic"
   ]
  },
  {
   "cell_type": "markdown",
   "id": "962450d7",
   "metadata": {},
   "source": [
    "성능 시각화\n",
    "---"
   ]
  },
  {
   "cell_type": "code",
   "execution_count": 6,
   "id": "caf6699b",
   "metadata": {},
   "outputs": [],
   "source": [
    "def plot_model(x_test, compression_ratios, snr, title, x_lablel, y_label):\n",
    "    markers = [\"*\", \"s\", \"o\", \"X\", \"d\", \"v\", \"<\", \">\", \"^\", \"P\", \"H\", \"|\"]\n",
    "    colors = ['#800080', '#FF00FF', '#000080', '#008080', '#00FFFF', '#008000', '#00FF00']\n",
    "    history = []\n",
    "    i=0\n",
    "    for snr in snr_lst:\n",
    "        print('\\n----> Now Getting Data and Preparing Plot for SNR {0} dB <----'.format(snr))\n",
    "        model_dic = EvaluateModel(x_test, compression_ratios, snr, mode='multiple')\n",
    "        history.append(model_dic)\n",
    "        label='Deep JSCC (SNR={0}dB)'.format(snr)\n",
    "        plt.plot(compression_ratios, model_dic['PSNR'], ls = '--', c = colors[i], marker = markers[i], label=label)\n",
    "        i += 1\n",
    "        plt.title(title)\n",
    "        plt.xlabel(x_lablel)\n",
    "        plt.ylabel(y_label)\n",
    "        plt.grid(True)\n",
    "    plt.ylim(10,35)\n",
    "    plt.show()\n",
    "    return history"
   ]
  },
  {
   "cell_type": "code",
   "execution_count": 9,
   "id": "38380c36",
   "metadata": {
    "scrolled": true
   },
   "outputs": [
    {
     "name": "stdout",
     "output_type": "stream",
     "text": [
      "\n",
      "----> Now Getting Data and Preparing Plot for SNR 10 dB <----\n"
     ]
    },
    {
     "ename": "ValueError",
     "evalue": "You are trying to load a weight file containing 19 layers into a model with 20 layers.",
     "output_type": "error",
     "traceback": [
      "\u001b[1;31m---------------------------------------------------------------------------\u001b[0m",
      "\u001b[1;31mValueError\u001b[0m                                Traceback (most recent call last)",
      "\u001b[1;32m~\\AppData\\Local\\Temp/ipykernel_13276/956224720.py\u001b[0m in \u001b[0;36m<module>\u001b[1;34m\u001b[0m\n\u001b[0;32m      3\u001b[0m \u001b[0msnr\u001b[0m\u001b[1;33m=\u001b[0m\u001b[1;36m10\u001b[0m\u001b[1;33m\u001b[0m\u001b[1;33m\u001b[0m\u001b[0m\n\u001b[0;32m      4\u001b[0m \u001b[0msnr_lst\u001b[0m\u001b[1;33m=\u001b[0m\u001b[1;33m[\u001b[0m\u001b[1;36m10\u001b[0m\u001b[1;33m]\u001b[0m\u001b[1;33m\u001b[0m\u001b[1;33m\u001b[0m\u001b[0m\n\u001b[1;32m----> 5\u001b[1;33m \u001b[0mhistory\u001b[0m \u001b[1;33m=\u001b[0m \u001b[0mplot_model\u001b[0m\u001b[1;33m(\u001b[0m\u001b[0mx_test\u001b[0m\u001b[1;33m,\u001b[0m \u001b[0mcompression_ratios\u001b[0m\u001b[1;33m,\u001b[0m \u001b[0msnr_lst\u001b[0m\u001b[1;33m,\u001b[0m \u001b[0mtitle\u001b[0m\u001b[1;33m=\u001b[0m\u001b[1;34m'AWGN Channel'\u001b[0m\u001b[1;33m,\u001b[0m \u001b[0mx_lablel\u001b[0m\u001b[1;33m=\u001b[0m\u001b[1;34m'k/n'\u001b[0m\u001b[1;33m,\u001b[0m \u001b[0my_label\u001b[0m\u001b[1;33m=\u001b[0m\u001b[1;34m'PSNR (dB)'\u001b[0m\u001b[1;33m)\u001b[0m\u001b[1;33m\u001b[0m\u001b[1;33m\u001b[0m\u001b[0m\n\u001b[0m\u001b[0;32m      6\u001b[0m \u001b[1;33m\u001b[0m\u001b[0m\n\u001b[0;32m      7\u001b[0m '''\n",
      "\u001b[1;32m~\\AppData\\Local\\Temp/ipykernel_13276/3857763349.py\u001b[0m in \u001b[0;36mplot_model\u001b[1;34m(x_test, compression_ratios, snr, title, x_lablel, y_label)\u001b[0m\n\u001b[0;32m      6\u001b[0m     \u001b[1;32mfor\u001b[0m \u001b[0msnr\u001b[0m \u001b[1;32min\u001b[0m \u001b[0msnr_lst\u001b[0m\u001b[1;33m:\u001b[0m\u001b[1;33m\u001b[0m\u001b[1;33m\u001b[0m\u001b[0m\n\u001b[0;32m      7\u001b[0m         \u001b[0mprint\u001b[0m\u001b[1;33m(\u001b[0m\u001b[1;34m'\\n----> Now Getting Data and Preparing Plot for SNR {0} dB <----'\u001b[0m\u001b[1;33m.\u001b[0m\u001b[0mformat\u001b[0m\u001b[1;33m(\u001b[0m\u001b[0msnr\u001b[0m\u001b[1;33m)\u001b[0m\u001b[1;33m)\u001b[0m\u001b[1;33m\u001b[0m\u001b[1;33m\u001b[0m\u001b[0m\n\u001b[1;32m----> 8\u001b[1;33m         \u001b[0mmodel_dic\u001b[0m \u001b[1;33m=\u001b[0m \u001b[0mEvaluateModel\u001b[0m\u001b[1;33m(\u001b[0m\u001b[0mx_test\u001b[0m\u001b[1;33m,\u001b[0m \u001b[0mcompression_ratios\u001b[0m\u001b[1;33m,\u001b[0m \u001b[0msnr\u001b[0m\u001b[1;33m,\u001b[0m \u001b[0mmode\u001b[0m\u001b[1;33m=\u001b[0m\u001b[1;34m'multiple'\u001b[0m\u001b[1;33m)\u001b[0m\u001b[1;33m\u001b[0m\u001b[1;33m\u001b[0m\u001b[0m\n\u001b[0m\u001b[0;32m      9\u001b[0m         \u001b[0mhistory\u001b[0m\u001b[1;33m.\u001b[0m\u001b[0mappend\u001b[0m\u001b[1;33m(\u001b[0m\u001b[0mmodel_dic\u001b[0m\u001b[1;33m)\u001b[0m\u001b[1;33m\u001b[0m\u001b[1;33m\u001b[0m\u001b[0m\n\u001b[0;32m     10\u001b[0m         \u001b[0mlabel\u001b[0m\u001b[1;33m=\u001b[0m\u001b[1;34m'Deep JSCC (SNR={0}dB)'\u001b[0m\u001b[1;33m.\u001b[0m\u001b[0mformat\u001b[0m\u001b[1;33m(\u001b[0m\u001b[0msnr\u001b[0m\u001b[1;33m)\u001b[0m\u001b[1;33m\u001b[0m\u001b[1;33m\u001b[0m\u001b[0m\n",
      "\u001b[1;32m~\\AppData\\Local\\Temp/ipykernel_13276/1358259838.py\u001b[0m in \u001b[0;36mEvaluateModel\u001b[1;34m(x_test, compression_ratios, snr, mode)\u001b[0m\n\u001b[0;32m     18\u001b[0m             \u001b[0mtf\u001b[0m\u001b[1;33m.\u001b[0m\u001b[0mkeras\u001b[0m\u001b[1;33m.\u001b[0m\u001b[0mbackend\u001b[0m\u001b[1;33m.\u001b[0m\u001b[0mclear_session\u001b[0m\u001b[1;33m(\u001b[0m\u001b[1;33m)\u001b[0m\u001b[1;33m\u001b[0m\u001b[1;33m\u001b[0m\u001b[0m\n\u001b[0;32m     19\u001b[0m             \u001b[0mpath\u001b[0m \u001b[1;33m=\u001b[0m \u001b[1;34m'./checkpoints/CompRatio{0}_SNR{1}/Autoencoder.h5'\u001b[0m\u001b[1;33m.\u001b[0m\u001b[0mformat\u001b[0m\u001b[1;33m(\u001b[0m\u001b[0mcomp_ratio\u001b[0m\u001b[1;33m,\u001b[0m \u001b[0msnr\u001b[0m\u001b[1;33m)\u001b[0m\u001b[1;33m\u001b[0m\u001b[1;33m\u001b[0m\u001b[0m\n\u001b[1;32m---> 20\u001b[1;33m             \u001b[0mautoencoder\u001b[0m \u001b[1;33m=\u001b[0m \u001b[0mload_model\u001b[0m\u001b[1;33m(\u001b[0m\u001b[0mpath\u001b[0m\u001b[1;33m,\u001b[0m \u001b[0mcustom_objects\u001b[0m\u001b[1;33m=\u001b[0m\u001b[1;33m{\u001b[0m\u001b[1;34m'NormalizationNoise'\u001b[0m\u001b[1;33m:\u001b[0m \u001b[0mNormalizationNoise\u001b[0m\u001b[1;33m}\u001b[0m\u001b[1;33m)\u001b[0m\u001b[1;33m\u001b[0m\u001b[1;33m\u001b[0m\u001b[0m\n\u001b[0m\u001b[0;32m     21\u001b[0m             \u001b[0mK\u001b[0m\u001b[1;33m.\u001b[0m\u001b[0mset_value\u001b[0m\u001b[1;33m(\u001b[0m\u001b[0mautoencoder\u001b[0m\u001b[1;33m.\u001b[0m\u001b[0mget_layer\u001b[0m\u001b[1;33m(\u001b[0m\u001b[1;34m'normalization_noise_1'\u001b[0m\u001b[1;33m)\u001b[0m\u001b[1;33m.\u001b[0m\u001b[0msnr_db\u001b[0m\u001b[1;33m,\u001b[0m \u001b[0msnr\u001b[0m\u001b[1;33m)\u001b[0m\u001b[1;33m\u001b[0m\u001b[1;33m\u001b[0m\u001b[0m\n\u001b[0;32m     22\u001b[0m             \u001b[0mpred_images\u001b[0m \u001b[1;33m=\u001b[0m \u001b[0mautoencoder\u001b[0m\u001b[1;33m.\u001b[0m\u001b[0mpredict\u001b[0m\u001b[1;33m(\u001b[0m\u001b[0mx_test\u001b[0m\u001b[1;33m)\u001b[0m\u001b[1;33m*\u001b[0m\u001b[1;36m255\u001b[0m\u001b[1;33m\u001b[0m\u001b[1;33m\u001b[0m\u001b[0m\n",
      "\u001b[1;32mc:\\users\\82103\\appdata\\local\\programs\\python\\python39\\lib\\site-packages\\keras\\saving\\save.py\u001b[0m in \u001b[0;36mload_model\u001b[1;34m(filepath, custom_objects, compile, options)\u001b[0m\n\u001b[0;32m    199\u001b[0m         if (h5py is not None and\n\u001b[0;32m    200\u001b[0m             (isinstance(filepath, h5py.File) or h5py.is_hdf5(filepath))):\n\u001b[1;32m--> 201\u001b[1;33m           return hdf5_format.load_model_from_hdf5(filepath, custom_objects,\n\u001b[0m\u001b[0;32m    202\u001b[0m                                                   compile)\n\u001b[0;32m    203\u001b[0m \u001b[1;33m\u001b[0m\u001b[0m\n",
      "\u001b[1;32mc:\\users\\82103\\appdata\\local\\programs\\python\\python39\\lib\\site-packages\\keras\\saving\\hdf5_format.py\u001b[0m in \u001b[0;36mload_model_from_hdf5\u001b[1;34m(filepath, custom_objects, compile)\u001b[0m\n\u001b[0;32m    182\u001b[0m \u001b[1;33m\u001b[0m\u001b[0m\n\u001b[0;32m    183\u001b[0m     \u001b[1;31m# set weights\u001b[0m\u001b[1;33m\u001b[0m\u001b[1;33m\u001b[0m\u001b[1;33m\u001b[0m\u001b[0m\n\u001b[1;32m--> 184\u001b[1;33m     \u001b[0mload_weights_from_hdf5_group\u001b[0m\u001b[1;33m(\u001b[0m\u001b[0mf\u001b[0m\u001b[1;33m[\u001b[0m\u001b[1;34m'model_weights'\u001b[0m\u001b[1;33m]\u001b[0m\u001b[1;33m,\u001b[0m \u001b[0mmodel\u001b[0m\u001b[1;33m.\u001b[0m\u001b[0mlayers\u001b[0m\u001b[1;33m)\u001b[0m\u001b[1;33m\u001b[0m\u001b[1;33m\u001b[0m\u001b[0m\n\u001b[0m\u001b[0;32m    185\u001b[0m \u001b[1;33m\u001b[0m\u001b[0m\n\u001b[0;32m    186\u001b[0m     \u001b[1;32mif\u001b[0m \u001b[0mcompile\u001b[0m\u001b[1;33m:\u001b[0m\u001b[1;33m\u001b[0m\u001b[1;33m\u001b[0m\u001b[0m\n",
      "\u001b[1;32mc:\\users\\82103\\appdata\\local\\programs\\python\\python39\\lib\\site-packages\\keras\\saving\\hdf5_format.py\u001b[0m in \u001b[0;36mload_weights_from_hdf5_group\u001b[1;34m(f, layers)\u001b[0m\n\u001b[0;32m    686\u001b[0m   \u001b[0mlayer_names\u001b[0m \u001b[1;33m=\u001b[0m \u001b[0mfiltered_layer_names\u001b[0m\u001b[1;33m\u001b[0m\u001b[1;33m\u001b[0m\u001b[0m\n\u001b[0;32m    687\u001b[0m   \u001b[1;32mif\u001b[0m \u001b[0mlen\u001b[0m\u001b[1;33m(\u001b[0m\u001b[0mlayer_names\u001b[0m\u001b[1;33m)\u001b[0m \u001b[1;33m!=\u001b[0m \u001b[0mlen\u001b[0m\u001b[1;33m(\u001b[0m\u001b[0mfiltered_layers\u001b[0m\u001b[1;33m)\u001b[0m\u001b[1;33m:\u001b[0m\u001b[1;33m\u001b[0m\u001b[1;33m\u001b[0m\u001b[0m\n\u001b[1;32m--> 688\u001b[1;33m     raise ValueError('You are trying to load a weight file '\n\u001b[0m\u001b[0;32m    689\u001b[0m                      \u001b[1;34m'containing '\u001b[0m \u001b[1;33m+\u001b[0m \u001b[0mstr\u001b[0m\u001b[1;33m(\u001b[0m\u001b[0mlen\u001b[0m\u001b[1;33m(\u001b[0m\u001b[0mlayer_names\u001b[0m\u001b[1;33m)\u001b[0m\u001b[1;33m)\u001b[0m \u001b[1;33m+\u001b[0m\u001b[1;33m\u001b[0m\u001b[1;33m\u001b[0m\u001b[0m\n\u001b[0;32m    690\u001b[0m                      \u001b[1;34m' layers into a model with '\u001b[0m \u001b[1;33m+\u001b[0m \u001b[0mstr\u001b[0m\u001b[1;33m(\u001b[0m\u001b[0mlen\u001b[0m\u001b[1;33m(\u001b[0m\u001b[0mfiltered_layers\u001b[0m\u001b[1;33m)\u001b[0m\u001b[1;33m)\u001b[0m \u001b[1;33m+\u001b[0m\u001b[1;33m\u001b[0m\u001b[1;33m\u001b[0m\u001b[0m\n",
      "\u001b[1;31mValueError\u001b[0m: You are trying to load a weight file containing 19 layers into a model with 20 layers."
     ]
    }
   ],
   "source": [
    "#snr_lst=[20]\n",
    "compression_ratios=[0.06, 0.09]\n",
    "snr=10\n",
    "snr_lst=[10]\n",
    "history = plot_model(x_test, compression_ratios, snr_lst, title='AWGN Channel', x_lablel='k/n', y_label='PSNR (dB)')   \n",
    "\n",
    "'''\n",
    "model_dic = EvaluateModel(x_test, compression_ratios, snr, mode='multiple')\n",
    "#markers = [\"*\", \"s\", \"o\", \"X\", \"d\", \"v\", \"<\", \">\", \"^\", \"P\", \"H\", \"|\"]\n",
    "#colors = ['#800080', '#FF00FF', '#000080', '#008080', '#00FFFF', '#008000', '#00FF00', '#808000', '#FF0000', '#800000', '#000000', '#000080']\n",
    "#plt.plot(compression_ratios, model_dic['PSNR'], ls = '--', c = 'm', marker = 'o')\n",
    "\n",
    "preds = {'SNR':[], 'PSNR':[], 'SSIM':[], 'Epoch':[], 'Image':[]}\n",
    "\n",
    "preds['SNR'].append(snr)\n",
    "preds['PSNR'].append('PSNR')\n",
    "preds['SSIM'].append('SSIM')\n",
    "preds['Epoch'].append('Epoch')\n",
    "preds['Image'].append(true_img)\n",
    "'''"
   ]
  },
  {
   "cell_type": "code",
   "execution_count": null,
   "id": "ccfe63ed",
   "metadata": {},
   "outputs": [],
   "source": [
    "j=6          \n",
    "test_img=np.array([x_test[j]])\n",
    "true_img=testX[j]\n",
    "comp_ratio=0.06\n",
    "epoch_range=550\n",
    "epoch_step=50"
   ]
  },
  {
   "cell_type": "code",
   "execution_count": null,
   "id": "8e086cc1",
   "metadata": {},
   "outputs": [],
   "source": [
    "for epoch in range(50,epoch_range,epoch_step):\n",
    "    tf.keras.backend.clear_session()\n",
    "    path = './CKPT_ByEpochs/CompRatio_{0}SNR{1}/Autoencoder_Epoch_{2}.h5'.format(comp_ratio, snr, epoch)\n",
    "    autoencoder = load_model(path, custom_objects={'NormalizationNoise': NormalizationNoise})\n",
    "    K.set_value(autoencoder.get_layer('normalization_noise_1').snr_db, snr)\n",
    "    pred_images = autoencoder.predict(test_img)[0]*255\n",
    "    pred_images = pred_images.astype('uint8')\n",
    "    preds['SNR'].append(snr)\n",
    "    preds['PSNR'].append(compare_psnr(true_img, pred_images))\n",
    "    preds['SSIM'].append(structural_similarity(true_img, pred_images, multichannel=True))\n",
    "    preds['Epoch'].append(epoch)\n",
    "    preds['Image'].append(pred_images)"
   ]
  },
  {
   "cell_type": "code",
   "execution_count": null,
   "id": "a68feab9",
   "metadata": {
    "scrolled": true
   },
   "outputs": [],
   "source": [
    "col=epoch_range//epoch_step+1 \n",
    "rows=len(snr_lst)    \n",
    "i=0 \n",
    "plt_step=2\n",
    "\n",
    "for j in range((len(preds['Image'])+2)//plt_step):\n",
    "    # define subplot\n",
    "    plt.subplot(rows,col,i+1)\n",
    "    # plot raw pixel data\n",
    "    print(preds['Epoch'][i])\n",
    "    fig = plt.imshow(preds['Image'][i])\n",
    "    if i%col==0:\n",
    "        plt.title(str(preds['PSNR'][i])+'/'+str(preds['SSIM'][i]))\n",
    "        plt.ylabel('SNR {0} dB'.format(preds['SNR'][i]))\n",
    "    else:\n",
    "        plt.title(str(int(preds['PSNR'][i]))+'/{0:.3f}'.format(preds['SSIM'][i]))\n",
    "    i=i+plt_step        \n",
    "    fig.axes.get_xaxis().set_visible(False)\n",
    "    fig.axes.get_yaxis().set_visible(False)"
   ]
  },
  {
   "cell_type": "code",
   "execution_count": null,
   "id": "39403b2a",
   "metadata": {},
   "outputs": [],
   "source": []
  }
 ],
 "metadata": {
  "kernelspec": {
   "display_name": "Python 3 (ipykernel)",
   "language": "python",
   "name": "python3"
  },
  "language_info": {
   "codemirror_mode": {
    "name": "ipython",
    "version": 3
   },
   "file_extension": ".py",
   "mimetype": "text/x-python",
   "name": "python",
   "nbconvert_exporter": "python",
   "pygments_lexer": "ipython3",
   "version": "3.9.2"
  }
 },
 "nbformat": 4,
 "nbformat_minor": 5
}
