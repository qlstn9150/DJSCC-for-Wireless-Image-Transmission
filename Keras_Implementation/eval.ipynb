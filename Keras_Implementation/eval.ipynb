{
 "cells": [
  {
   "cell_type": "code",
   "execution_count": null,
   "id": "087aaf07",
   "metadata": {},
   "outputs": [],
   "source": [
    "import tensorflow as tf\n",
    "import os\n",
    "import numpy as np\n",
    "from keras.models import load_model\n",
    "from AutoencoderModel import NormalizationNoise\n",
    "from keras.datasets import cifar10\n",
    "from keras import backend as K\n",
    "from skimage.metrics import structural_similarity\n",
    "#from skimage.measure import compare_psnr 대신 아래\n",
    "from skimage.metrics import peak_signal_noise_ratio\n",
    "from matplotlib import pyplot as plt"
   ]
  },
  {
   "cell_type": "markdown",
   "id": "629cc511",
   "metadata": {},
   "source": [
    "입력데이터 정규화"
   ]
  },
  {
   "cell_type": "code",
   "execution_count": null,
   "id": "43ea0a08",
   "metadata": {},
   "outputs": [],
   "source": [
    "(trainX, _), (testX, _) = cifar10.load_data()\n",
    "\n",
    "def normalize_pixels(train_data, test_data):\n",
    "    train_norm = train_data.astype('float32')\n",
    "    test_norm = test_data.astype('float32')\n",
    "    train_norm = train_norm / 255.0\n",
    "    test_norm = test_norm / 255.0\n",
    "    return train_norm, test_norm\n",
    "\n",
    "x_train, x_test = normalize_pixels(trainX, testX)"
   ]
  },
  {
   "cell_type": "markdown",
   "id": "41695a27",
   "metadata": {},
   "source": [
    "파라미터 설정"
   ]
  },
  {
   "cell_type": "code",
   "execution_count": null,
   "id": "803e36bd",
   "metadata": {},
   "outputs": [],
   "source": [
    "compression_ratios = [0.06, 0.09, 0.17, 0.26, 0.34, 0.43, 0.49]\n",
    "#snr = [0, 10, 20]\n",
    "snr = 20"
   ]
  },
  {
   "cell_type": "markdown",
   "id": "e0ba949b",
   "metadata": {},
   "source": [
    "평가모델\n",
    "---"
   ]
  },
  {
   "cell_type": "code",
   "execution_count": null,
   "id": "8a86ecef",
   "metadata": {},
   "outputs": [],
   "source": [
    "def EvaluateModel(x_test, compression_ratios, snr, mode='multiple'):\n",
    "    if mode=='single':\n",
    "        tf.keras.backend.clear_session()\n",
    "        comp_ratio=compression_ratios\n",
    "        path = './checkpoints/CompRatio{0}_SNR{1}/Autoencoder.h5'.format(comp_ratio, snr)\n",
    "        autoencoder = load_model(path, custom_objects={'NormalizationNoise': NormalizationNoise})\n",
    "        K.set_value(autoencoder.get_layer('normalization_noise_1').snr_db, snr)\n",
    "        pred_images = autoencoder.predict(x_test)*255\n",
    "        pred_images = pred_images.astype('uint8')\n",
    "        ssim = structural_similarity(testX, pred_images, multichannel=True)\n",
    "        psnr = compare_psnr(testX, pred_images)\n",
    "        return pred_images, psnr, ssim\n",
    "\n",
    "    elif mode=='multiple':  \n",
    "        model_dic = {'SNR':[], 'Pred_Images':[], 'PSNR':[], 'SSIM':[]}\n",
    "        model_dic['SNR'].append(snr)\n",
    "        for comp_ratio in compression_ratios:\n",
    "            tf.keras.backend.clear_session()\n",
    "            path = './checkpoints/CompRatio{0}_SNR{1}/Autoencoder.h5'.format(comp_ratio, snr)\n",
    "            autoencoder = load_model(path, custom_objects={'NormalizationNoise': NormalizationNoise})\n",
    "            K.set_value(autoencoder.get_layer('normalization_noise_1').snr_db, snr)\n",
    "            pred_images = autoencoder.predict(x_test)*255\n",
    "            pred_images = pred_images.astype('uint8')\n",
    "            ssim = structural_similarity(testX, pred_images, multichannel=True)\n",
    "            psnr = compare_psnr(testX, pred_images)\n",
    "            model_dic['Pred_Images'].append(pred_images)\n",
    "            model_dic['PSNR'].append(psnr)\n",
    "            model_dic['SSIM'].append(ssim)\n",
    "        return model_dic"
   ]
  },
  {
   "cell_type": "markdown",
   "id": "962450d7",
   "metadata": {},
   "source": [
    "성능 시각화\n",
    "---"
   ]
  },
  {
   "cell_type": "code",
   "execution_count": null,
   "id": "caf6699b",
   "metadata": {},
   "outputs": [],
   "source": [
    "def plot_model(x_test, compression_ratios, snr_lst, title, x_lablel, y_label):\n",
    "    markers = [\"*\", \"s\", \"o\", \"X\", \"d\", \"v\", \"<\", \">\", \"^\", \"P\", \"H\", \"|\"]\n",
    "    colors = ['#800080', '#FF00FF', '#000080', '#008080', '#00FFFF', '#008000', '#00FF00']\n",
    "    history = []\n",
    "    i=0\n",
    "    for snr in snr_lst:\n",
    "        print('\\n----> Now Getting Data and Preparing Plot for SNR {0} dB <----'.format(snr))\n",
    "        model_dic = EvaluateModel(x_test, compression_ratios, snr, mode='multiple')\n",
    "        history.append(model_dic)\n",
    "        label='Deep JSCC (SNR={0}dB)'.format(snr)\n",
    "        plt.plot(compression_ratios, model_dic['PSNR'], ls = '--', c = colors[i], marker = markers[i], label=label)\n",
    "        i += 1\n",
    "        plt.title(title)\n",
    "        plt.xlabel(x_lablel)\n",
    "        plt.ylabel(y_label)\n",
    "        plt.grid(True)\n",
    "    plt.ylim(10,35)\n",
    "    plt.show()\n",
    "    return history"
   ]
  },
  {
   "cell_type": "code",
   "execution_count": null,
   "id": "38380c36",
   "metadata": {
    "scrolled": false
   },
   "outputs": [],
   "source": [
    "snr_lst=[20]\n",
    "history = plot_model(x_test, compression_ratios, snr_lst, title='AWGN Channel', x_lablel='k/n', y_label='PSNR (dB)')   \n",
    "\n",
    "'''\n",
    "model_dic = EvaluateModel(x_test, compression_ratios, snr, mode='multiple')\n",
    "#markers = [\"*\", \"s\", \"o\", \"X\", \"d\", \"v\", \"<\", \">\", \"^\", \"P\", \"H\", \"|\"]\n",
    "#colors = ['#800080', '#FF00FF', '#000080', '#008080', '#00FFFF', '#008000', '#00FF00', '#808000', '#FF0000', '#800000', '#000000', '#000080']\n",
    "#plt.plot(compression_ratios, model_dic['PSNR'], ls = '--', c = 'm', marker = 'o')\n",
    "\n",
    "preds = {'SNR':[], 'PSNR':[], 'SSIM':[], 'Epoch':[], 'Image':[]}\n",
    "\n",
    "preds['SNR'].append(snr)\n",
    "preds['PSNR'].append('PSNR')\n",
    "preds['SSIM'].append('SSIM')\n",
    "preds['Epoch'].append('Epoch')\n",
    "preds['Image'].append(true_img)\n",
    "'''"
   ]
  },
  {
   "cell_type": "code",
   "execution_count": null,
   "id": "8e086cc1",
   "metadata": {},
   "outputs": [],
   "source": [
    "j=6          \n",
    "test_img=np.array([x_test[j]])\n",
    "true_img=testX[j]\n",
    "comp_ratio=0.06\n",
    "epoch_range=550\n",
    "epoch_step=50\n",
    "\n",
    "for epoch in range(50,epoch_range,epoch_step):\n",
    "    tf.keras.backend.clear_session()\n",
    "    path = './CKPT_ByEpochs/CompRatio_{0}SNR{1}/Autoencoder_Epoch_{2}.h5'.format(comp_ratio, snr, epoch)\n",
    "    autoencoder = load_model(path, custom_objects={'NormalizationNoise': NormalizationNoise})\n",
    "    K.set_value(autoencoder.get_layer('normalization_noise_1').snr_db, snr)\n",
    "    pred_images = autoencoder.predict(test_img)[0]*255\n",
    "    pred_images = pred_images.astype('uint8')\n",
    "    preds['SNR'].append(snr)\n",
    "    preds['PSNR'].append(compare_psnr(true_img, pred_images))\n",
    "    preds['SSIM'].append(structural_similarity(true_img, pred_images, multichannel=True))\n",
    "    preds['Epoch'].append(epoch)\n",
    "    preds['Image'].append(pred_images)"
   ]
  },
  {
   "cell_type": "code",
   "execution_count": null,
   "id": "a68feab9",
   "metadata": {},
   "outputs": [],
   "source": [
    "col=epoch_range//epoch_step+1 \n",
    "rows=len(snr_lst)    \n",
    "i=0 \n",
    "plt_step=2\n",
    "\n",
    "for j in range((len(preds['Image'])+2)//plt_step):\n",
    "    # define subplot\n",
    "    plt.subplot(rows,col,i+1)\n",
    "    # plot raw pixel data\n",
    "    print(preds['Epoch'][i])\n",
    "    fig = plt.imshow(preds['Image'][i])\n",
    "    if i%col==0:\n",
    "        plt.title(str(preds['PSNR'][i])+'/'+str(preds['SSIM'][i]))\n",
    "        plt.ylabel('SNR {0} dB'.format(preds['SNR'][i]))\n",
    "    else:\n",
    "        plt.title(str(int(preds['PSNR'][i]))+'/{0:.3f}'.format(preds['SSIM'][i]))\n",
    "    i=i+plt_step        \n",
    "    fig.axes.get_xaxis().set_visible(False)\n",
    "    fig.axes.get_yaxis().set_visible(False)"
   ]
  }
 ],
 "metadata": {
  "kernelspec": {
   "display_name": "Python 3 (ipykernel)",
   "language": "python",
   "name": "python3"
  },
  "language_info": {
   "codemirror_mode": {
    "name": "ipython",
    "version": 3
   },
   "file_extension": ".py",
   "mimetype": "text/x-python",
   "name": "python",
   "nbconvert_exporter": "python",
   "pygments_lexer": "ipython3",
   "version": "3.9.2"
  }
 },
 "nbformat": 4,
 "nbformat_minor": 5
}
